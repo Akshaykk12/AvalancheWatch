{
 "cells": [
  {
   "cell_type": "markdown",
   "metadata": {},
   "source": [
    "esa_snappy is official module from european satellite.\n",
    "esa_snappy can be used to open the tiff image"
   ]
  },
  {
   "cell_type": "code",
   "execution_count": null,
   "metadata": {},
   "outputs": [],
   "source": [
    "from esa_snappy import ProductIO\n",
    "import numpy as np\n",
    "\n",
    "product = ProductIO.readProduct('./location-to-tiff.tiff')\n",
    "\n",
    "band_names = product.getBandNames()\n",
    "print(\"Brand names:\", band_names)\n",
    "\n",
    "select_band_name = band_names[0]\n",
    "selected_band = product.getBand(select_band_name)\n",
    "\n",
    "width = selected_band.getRasterWidth()\n",
    "height = selected_band.getRasterHeight()\n",
    "\n",
    "data = np.zeros((heigh, width), dtype= np.float32)\n",
    "\n",
    "selected_band.readPixels(0,0,width, height, data)\n",
    "\n",
    "print(\"Pixel data\", data)\n",
    "print(\"Size:\", data.shape)\n",
    "\n",
    "product.dispose()"
   ]
  },
  {
   "cell_type": "markdown",
   "metadata": {},
   "source": [
    "This successfully open the tiff file and save the image"
   ]
  },
  {
   "cell_type": "code",
   "execution_count": null,
   "metadata": {},
   "outputs": [],
   "source": [
    "from esa_snappy import ProductIO\n",
    "import numpy as np\n",
    "from PIL import Image\n",
    "\n",
    "product = ProductIO.readProduct('./location-to-tiff.tiff')\n",
    "\n",
    "band_names = product.getBandNames()\n",
    "print(\"Brand names:\", band_names)\n",
    "\n",
    "select_band_name = band_names[0]\n",
    "selected_band = product.getBand(select_band_name)\n",
    "\n",
    "width = selected_band.getRasterWidth()\n",
    "height = selected_band.getRasterHeight()\n",
    "\n",
    "data = np.zeros((heigh, width), dtype= np.float32)\n",
    "\n",
    "selected_band.readPixels(0,0,width, height, data)\n",
    "\n",
    "data = ((data - np.min(data))/ (np.max(data)- np.min(data))* 255).astype(np.uint8)\n",
    "\n",
    "image = Image.fromarray(data)\n",
    "\n",
    "image.save('output_image.png')\n",
    "\n",
    "product.dispose()\n"
   ]
  }
 ],
 "metadata": {
  "kernelspec": {
   "display_name": "myenv",
   "language": "python",
   "name": "python3"
  },
  "language_info": {
   "codemirror_mode": {
    "name": "ipython",
    "version": 3
   },
   "file_extension": ".py",
   "mimetype": "text/x-python",
   "name": "python",
   "nbconvert_exporter": "python",
   "pygments_lexer": "ipython3",
   "version": "3.12.3"
  }
 },
 "nbformat": 4,
 "nbformat_minor": 2
}
